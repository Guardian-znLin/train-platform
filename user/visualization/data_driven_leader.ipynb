{
 "cells": [
  {
   "cell_type": "markdown",
   "id": "a8c2b478",
   "metadata": {},
   "source": [
    "<div class=\"alert alert-block alert-info\">\n",
    "    <h2><strong><center>Import Library</center><strong></h2>"
   ]
  },
  {
   "cell_type": "code",
   "execution_count": 4,
   "metadata": {},
   "outputs": [],
   "source": [
    "import pandas as pd\n",
    "import seaborn as sns\n",
    "import matplotlib.pyplot as plt\n",
    "import glob"
   ]
  },
  {
   "cell_type": "markdown",
   "id": "f5be28b0",
   "metadata": {},
   "source": [
    "<div class=\"alert alert-block alert-info\">\n",
    "    <h2><strong><center>Input Data</center><strong></h2>"
   ]
  },
  {
   "cell_type": "code",
   "execution_count": 5,
   "metadata": {},
   "outputs": [],
   "source": [
    "DP_safe_filename = \"../result/DP/dp_safe_result.txt\"\n",
    "leader_filename_prefix = \"../result/DataDrivenMPC/leader_result*\"\n"
   ]
  },
  {
   "cell_type": "code",
   "execution_count": 36,
   "metadata": {},
   "outputs": [],
   "source": [
    "dp_safe_df = pd.DataFrame(columns = [\"space\", \"speed\", \"limit\"])\n",
    "for line in open(DP_safe_filename,\"r\"): #设置文件对象并读取每一行文件\n",
    "    strs = line.split(\" \")\n",
    "    dp_safe_df = dp_safe_df.append({\"space\": float(strs[0]), \"speed\": float(strs[1]), \"limit\": float(strs[2])}, ignore_index = True)"
   ]
  },
  {
   "cell_type": "code",
   "execution_count": 35,
   "metadata": {},
   "outputs": [
    {
     "data": {
      "text/plain": [
       "['../result/DataDrivenMPC/leader_result00.txt',\n",
       " '../result/DataDrivenMPC/leader_result01.txt',\n",
       " '../result/DataDrivenMPC/leader_result02.txt',\n",
       " '../result/DataDrivenMPC/leader_result03.txt',\n",
       " '../result/DataDrivenMPC/leader_result04.txt',\n",
       " '../result/DataDrivenMPC/leader_result05.txt',\n",
       " '../result/DataDrivenMPC/leader_result06.txt',\n",
       " '../result/DataDrivenMPC/leader_result07.txt',\n",
       " '../result/DataDrivenMPC/leader_result08.txt',\n",
       " '../result/DataDrivenMPC/leader_result09.txt',\n",
       " '../result/DataDrivenMPC/leader_result10.txt',\n",
       " '../result/DataDrivenMPC/leader_result11.txt',\n",
       " '../result/DataDrivenMPC/leader_result12.txt',\n",
       " '../result/DataDrivenMPC/leader_result13.txt',\n",
       " '../result/DataDrivenMPC/leader_result14.txt',\n",
       " '../result/DataDrivenMPC/leader_result15.txt',\n",
       " '../result/DataDrivenMPC/leader_result16.txt',\n",
       " '../result/DataDrivenMPC/leader_result17.txt',\n",
       " '../result/DataDrivenMPC/leader_result18.txt',\n",
       " '../result/DataDrivenMPC/leader_result19.txt',\n",
       " '../result/DataDrivenMPC/leader_result20.txt',\n",
       " '../result/DataDrivenMPC/leader_result21.txt',\n",
       " '../result/DataDrivenMPC/leader_result22.txt',\n",
       " '../result/DataDrivenMPC/leader_result23.txt',\n",
       " '../result/DataDrivenMPC/leader_result24.txt',\n",
       " '../result/DataDrivenMPC/leader_result25.txt',\n",
       " '../result/DataDrivenMPC/leader_result26.txt',\n",
       " '../result/DataDrivenMPC/leader_result27.txt',\n",
       " '../result/DataDrivenMPC/leader_result28.txt',\n",
       " '../result/DataDrivenMPC/leader_result29.txt',\n",
       " '../result/DataDrivenMPC/leader_result30.txt',\n",
       " '../result/DataDrivenMPC/leader_result31.txt',\n",
       " '../result/DataDrivenMPC/leader_result32.txt',\n",
       " '../result/DataDrivenMPC/leader_result33.txt',\n",
       " '../result/DataDrivenMPC/leader_result34.txt',\n",
       " '../result/DataDrivenMPC/leader_result35.txt',\n",
       " '../result/DataDrivenMPC/leader_result36.txt',\n",
       " '../result/DataDrivenMPC/leader_result37.txt',\n",
       " '../result/DataDrivenMPC/leader_result38.txt',\n",
       " '../result/DataDrivenMPC/leader_result39.txt']"
      ]
     },
     "execution_count": 35,
     "metadata": {},
     "output_type": "execute_result"
    }
   ],
   "source": [
    "glob.glob(leader_filename_prefix)"
   ]
  },
  {
   "cell_type": "code",
   "execution_count": 37,
   "metadata": {},
   "outputs": [],
   "source": [
    "df_list = []\n",
    "for filename in glob.glob(leader_filename_prefix):\n",
    "    temp_df = pd.DataFrame(columns = [\"space\", \"speed\", \"function\"])\n",
    "    for line in open(filename,\"r\"): #设置文件对象并读取每一行文件\n",
    "        strs = line.split(\" \")\n",
    "        temp_df = temp_df.append({\"space\": float(strs[0]), \"speed\": float(strs[1]), \"function\": float(strs[2])}, ignore_index = True)\n",
    "    df_list.append(temp_df)"
   ]
  },
  {
   "cell_type": "code",
   "execution_count": 42,
   "metadata": {},
   "outputs": [
    {
     "data": {
      "image/png": "[encoded data removed]",
      "text/plain": [
       "<Figure size 432x288 with 1 Axes>"
      ]
     },
     "metadata": {
      "needs_background": "light"
     },
     "output_type": "display_data"
    }
   ],
   "source": [
    "plt.plot(dp_safe_df[\"space\"], dp_safe_df[\"limit\"])\n",
    "for i in [0, 9, 19, 29, 39]:\n",
    "#for i in range(len(df_list)):\n",
    "    df = df_list[i]\n",
    "    plt.plot(df[\"space\"], df[\"speed\"])\n",
    "#    plt.plot(df[(df[\"space\"] < 170) & (df[\"space\"] > 100)][\"space\"], df[(df[\"space\"] < 170) & (df[\"space\"] > 100)][\"speed\"])\n",
    "plt.legend([\"limit\", \"iter0\", \"iter9\", \"iter19\", \"iter29\", \"iter39\"])\n",
    "plt.xlabel(\"s\")\n",
    "plt.ylabel(\"v\")\n",
    "plt.title(\"data driven leader control\")\n",
    "plt.show()"
   ]
  },
  {
   "cell_type": "code",
   "execution_count": null,
   "metadata": {},
   "outputs": [],
   "source": []
  },
  {
   "cell_type": "code",
   "execution_count": null,
   "metadata": {},
   "outputs": [],
   "source": []
  },
  {
   "cell_type": "code",
   "execution_count": null,
   "metadata": {},
   "outputs": [],
   "source": []
  }
 ],
 "metadata": {
  "interpreter": {
   "hash": "916dbcbb3f70747c44a77c7bcd40155683ae19c65e1c03b4aa3499c5328201f1"
  },
  "kernelspec": {
   "display_name": "Python 3.8.10 64-bit",
   "language": "python",
   "name": "python3"
  },
  "language_info": {
   "codemirror_mode": {
    "name": "ipython",
    "version": 3
   },
   "file_extension": ".py",
   "mimetype": "text/x-python",
   "name": "python",
   "nbconvert_exporter": "python",
   "pygments_lexer": "ipython3",
   "version": "3.8.10"
  },
  "orig_nbformat": 4
 },
 "nbformat": 4,
 "nbformat_minor": 2
}
