{
 "cells": [
  {
   "cell_type": "markdown",
   "id": "a8c2b478",
   "metadata": {},
   "source": [
    "<div class=\"alert alert-block alert-info\">\n",
    "    <h2><strong><center>Import Library</center><strong></h2>"
   ]
  },
  {
   "cell_type": "code",
   "execution_count": 1,
   "metadata": {},
   "outputs": [],
   "source": [
    "import pandas as pd\n",
    "import seaborn as sns\n",
    "import matplotlib.pyplot as plt\n",
    "import glob"
   ]
  },
  {
   "cell_type": "markdown",
   "id": "f5be28b0",
   "metadata": {},
   "source": [
    "<div class=\"alert alert-block alert-info\">\n",
    "    <h2><strong><center>Input Data</center><strong></h2>"
   ]
  },
  {
   "cell_type": "code",
   "execution_count": 6,
   "metadata": {},
   "outputs": [],
   "source": [
    "DP_safe_filename = \"../../db/dp_safe_result.txt\"\n",
    "leader_filename_prefix = \"../result/leader_result*\"\n"
   ]
  },
  {
   "cell_type": "code",
   "execution_count": 7,
   "metadata": {},
   "outputs": [
    {
     "name": "stdout",
     "output_type": "stream",
     "text": [
      "../result/leader_result0.txt\n",
      "../result/leader_result1.txt\n",
      "../result/leader_result2.txt\n",
      "../result/leader_result3.txt\n"
     ]
    }
   ],
   "source": [
    "for filename in glob.glob(leader_filename_prefix):\n",
    "    print(filename)"
   ]
  },
  {
   "cell_type": "code",
   "execution_count": 8,
   "metadata": {},
   "outputs": [],
   "source": [
    "df_list = []\n",
    "for filename in glob.glob(leader_filename_prefix):\n",
    "    temp_df = pd.DataFrame(columns = [\"space\", \"speed\", \"function\"])\n",
    "    for line in open(filename,\"r\"): #设置文件对象并读取每一行文件\n",
    "        strs = line.split(\" \")\n",
    "        temp_df = temp_df.append({\"space\": float(strs[0]), \"speed\": float(strs[1]), \"function\": float(strs[2])}, ignore_index = True)\n",
    "    df_list.append(df_list)"
   ]
  },
  {
   "cell_type": "code",
   "execution_count": null,
   "metadata": {},
   "outputs": [],
   "source": [
    "plt.plot(dp_safe_df[\"space\"], dp_safe_df[\"limit\"])\n",
    "plt.plot(df_list[0][\"space\"], df_list[0][\"speed\"])\n",
    "plt.plot(df_list[1][\"space\"], df_list[1][\"speed\"])\n",
    "plt.plot(df_list[2][\"space\"], df_list[2][\"speed\"])\n",
    "plt.plot(df_list[3][\"space\"], df_list[3][\"speed\"])\n",
    "plt.legend([\"limit\", \"max\", \"ref\", \"MPC\"])\n",
    "plt.xlabel(\"s\")\n",
    "plt.ylabel(\"v\")\n",
    "plt.title(\"leader control\")\n",
    "plt.show()"
   ]
  }
 ],
 "metadata": {
  "interpreter": {
   "hash": "916dbcbb3f70747c44a77c7bcd40155683ae19c65e1c03b4aa3499c5328201f1"
  },
  "kernelspec": {
   "display_name": "Python 3.8.10 64-bit",
   "language": "python",
   "name": "python3"
  },
  "language_info": {
   "codemirror_mode": {
    "name": "ipython",
    "version": 3
   },
   "file_extension": ".py",
   "mimetype": "text/x-python",
   "name": "python",
   "nbconvert_exporter": "python",
   "pygments_lexer": "ipython3",
   "version": "3.8.10"
  },
  "orig_nbformat": 4
 },
 "nbformat": 4,
 "nbformat_minor": 2
}
