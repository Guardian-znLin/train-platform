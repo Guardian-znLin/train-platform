{
 "cells": [
  {
   "cell_type": "markdown",
   "id": "a8c2b478",
   "metadata": {},
   "source": [
    "<div class=\"alert alert-block alert-info\">\n",
    "    <h2><strong><center>Import Library</center><strong></h2>"
   ]
  },
  {
   "cell_type": "code",
   "execution_count": 2,
   "id": "914ebec6",
   "metadata": {},
   "outputs": [],
   "source": [
    "import pandas as pd\n",
    "import seaborn as sns\n",
    "import matplotlib.pyplot as plt\n",
    "import glob"
   ]
  },
  {
   "cell_type": "code",
   "execution_count": 3,
   "id": "7dd79608",
   "metadata": {},
   "outputs": [],
   "source": [
    "plt.rcParams[\"font.sans-serif\"] = ['SimHei']"
   ]
  },
  {
   "cell_type": "markdown",
   "id": "f5be28b0",
   "metadata": {},
   "source": [
    "<div class=\"alert alert-block alert-info\">\n",
    "    <h2><strong><center>Input Data</center><strong></h2>"
   ]
  },
  {
   "cell_type": "code",
   "execution_count": 6,
   "id": "98f50dc4",
   "metadata": {},
   "outputs": [],
   "source": [
    "DP_safe_filename = \"../result/DP/dp_safe_result.txt\"\n",
    "DP_ref_filename = \"../result/DP/dp_ref_result.txt\""
   ]
  },
  {
   "cell_type": "code",
   "execution_count": 7,
   "id": "31bf8ee3",
   "metadata": {},
   "outputs": [],
   "source": [
    "dp_safe_df = pd.DataFrame(columns = [\"space\", \"speed\", \"limit\"])\n",
    "for line in open(DP_safe_filename,\"r\"): #设置文件对象并读取每一行文件\n",
    "    strs = line.split(\" \")\n",
    "    dp_safe_df = dp_safe_df.append({\"space\": float(strs[0]), \"speed\": float(strs[1]), \"limit\": float(strs[2])}, ignore_index = True)"
   ]
  },
  {
   "cell_type": "code",
   "execution_count": 8,
   "id": "01bc8d54",
   "metadata": {},
   "outputs": [],
   "source": [
    "dp_ref_df = pd.DataFrame(columns = [\"space\", \"speed\", \"limit\"])\n",
    "for line in open(DP_ref_filename,\"r\"): #设置文件对象并读取每一行文件\n",
    "    strs = line.split(\" \")\n",
    "    dp_ref_df = dp_ref_df.append({\"space\": float(strs[0]), \"speed\": float(strs[1]), \"limit\": float(strs[2])}, ignore_index = True)"
   ]
  },
  {
   "cell_type": "markdown",
   "id": "e8547494",
   "metadata": {},
   "source": [
    "<div class=\"alert alert-block alert-info\">\n",
    "    <h2><strong><center>Visualization</center><strong></h2>"
   ]
  },
  {
   "cell_type": "markdown",
   "id": "83db1a9b",
   "metadata": {},
   "source": [
    "## Dynamic Programming"
   ]
  },
  {
   "cell_type": "code",
   "execution_count": 9,
   "id": "f4ccf8e7",
   "metadata": {},
   "outputs": [
    {
     "name": "stderr",
     "output_type": "stream",
     "text": [
      "findfont: Font family ['sans-serif'] not found. Falling back to DejaVu Sans.\n",
      "findfont: Generic family 'sans-serif' not found because none of the following families were found: SimHei\n",
      "findfont: Font family ['sans-serif'] not found. Falling back to DejaVu Sans.\n",
      "findfont: Generic family 'sans-serif' not found because none of the following families were found: SimHei\n"
     ]
    },
    {
     "data": {
      "image/png": "[encoded data removed]",
      "text/plain": [
       "<Figure size 432x288 with 1 Axes>"
      ]
     },
     "metadata": {
      "needs_background": "light"
     },
     "output_type": "display_data"
    }
   ],
   "source": [
    "plt.plot(dp_safe_df[\"space\"], dp_safe_df[\"limit\"])\n",
    "plt.plot(dp_safe_df[\"space\"], dp_safe_df[\"speed\"])\n",
    "plt.plot(dp_ref_df[\"space\"], dp_ref_df[\"speed\"])\n",
    "plt.legend([\"limit\", \"safe\", \"ref\"])\n",
    "plt.xlabel(\"s\")\n",
    "plt.ylabel(\"v\")\n",
    "plt.title(\"dynamic programming\")\n",
    "plt.show()"
   ]
  }
 ],
 "metadata": {
  "kernelspec": {
   "display_name": "Python 3 (ipykernel)",
   "language": "python",
   "name": "python3"
  },
  "language_info": {
   "codemirror_mode": {
    "name": "ipython",
    "version": 3
   },
   "file_extension": ".py",
   "mimetype": "text/x-python",
   "name": "python",
   "nbconvert_exporter": "python",
   "pygments_lexer": "ipython3",
   "version": "3.8.10"
  }
 },
 "nbformat": 4,
 "nbformat_minor": 5
}
